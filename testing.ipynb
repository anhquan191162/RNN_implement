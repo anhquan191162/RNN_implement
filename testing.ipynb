{
 "cells": [
  {
   "cell_type": "code",
   "execution_count": 1,
   "metadata": {},
   "outputs": [],
   "source": [
    "from datagen import generate_dataset, split_dataset, batch_iterator\n",
    "from NN import NeuralNetwork\n",
    "from config_parser import *\n"
   ]
  },
  {
   "cell_type": "code",
   "execution_count": 2,
   "metadata": {},
   "outputs": [
    {
     "name": "stdout",
     "output_type": "stream",
     "text": [
      "Epoch 1 | Train Loss: 0.2516 | Val Loss: 0.2846\n",
      "Epoch 2 | Train Loss: 0.2851 | Val Loss: 0.2672\n",
      "Epoch 3 | Train Loss: 0.2589 | Val Loss: 0.2513\n",
      "Epoch 4 | Train Loss: 0.2441 | Val Loss: 0.2355\n",
      "Epoch 5 | Train Loss: 0.2316 | Val Loss: 0.2242\n",
      "Epoch 6 | Train Loss: 0.2242 | Val Loss: 0.2138\n",
      "Epoch 7 | Train Loss: 0.2125 | Val Loss: 0.2105\n",
      "Epoch 8 | Train Loss: 0.1994 | Val Loss: 0.2015\n",
      "Epoch 9 | Train Loss: 0.2081 | Val Loss: 0.2015\n",
      "Epoch 10 | Train Loss: 0.2017 | Val Loss: 0.1999\n",
      "Epoch 11 | Train Loss: 0.1989 | Val Loss: 0.1976\n",
      "Epoch 12 | Train Loss: 0.1978 | Val Loss: 0.1984\n",
      "Epoch 13 | Train Loss: 0.1908 | Val Loss: 0.1942\n",
      "Epoch 14 | Train Loss: 0.1980 | Val Loss: 0.1929\n",
      "Epoch 15 | Train Loss: 0.1952 | Val Loss: 0.1922\n",
      "Epoch 16 | Train Loss: 0.1972 | Val Loss: 0.1891\n",
      "Epoch 17 | Train Loss: 0.1915 | Val Loss: 0.1939\n",
      "Epoch 18 | Train Loss: 0.1883 | Val Loss: 0.1916\n",
      "Epoch 19 | Train Loss: 0.1890 | Val Loss: 0.1837\n",
      "Epoch 20 | Train Loss: 0.1862 | Val Loss: 0.1876\n",
      "\n",
      "Pred: [1 1 1 1 1 1 1 1 1 1] || Target: [1 1 1 0 0 1 1 0 1 1]\n",
      "=======================================================================\n",
      "\n",
      "\n",
      "Pred: [1 1 1 1 1 1 1 1 1 1] || Target: [1 1 1 0 0 1 1 0 1 1]\n",
      "=======================================================================\n",
      "\n",
      "\n",
      "Pred: [1 1 1 1 1 1 1 1 1 1] || Target: [1 1 1 0 0 1 1 0 1 1]\n",
      "=======================================================================\n",
      "\n",
      "\n",
      "Pred: [1 1 1 1 1 1 1 0 1 1] || Target: [1 1 1 0 0 1 1 0 1 1]\n",
      "=======================================================================\n",
      "\n",
      "\n",
      "Pred: [1 1 1 1 1 1 1 1 1 1] || Target: [1 1 0 1 1 1 1 1 0 0]\n",
      "=======================================================================\n",
      "\n",
      "\n",
      "Pred: [1 1 1 1 1 1 1 1 1 1] || Target: [1 1 0 1 1 1 1 1 0 0]\n",
      "=======================================================================\n",
      "\n",
      "\n",
      "Pred: [1 1 1 1 1 1 1 1 1 1] || Target: [1 1 1 0 0 1 1 0 1 1]\n",
      "=======================================================================\n",
      "\n",
      "\n",
      "Pred: [1 1 1 1 1 1 1 1 1 1] || Target: [1 1 0 1 1 1 1 1 0 0]\n",
      "=======================================================================\n",
      "\n",
      "\n",
      "Pred: [1 1 1 1 1 1 1 1 1 1] || Target: [1 1 0 1 1 1 1 1 0 0]\n",
      "=======================================================================\n",
      "\n",
      "\n",
      "Pred: [1 1 1 1 1 1 1 1 1 1] || Target: [1 1 0 1 1 1 1 1 0 0]\n",
      "=======================================================================\n",
      "\n",
      "\n",
      "Pred: [1 1 1 1 1 1 1 1 1 1] || Target: [1 1 0 1 1 1 1 1 0 0]\n",
      "=======================================================================\n",
      "\n",
      "\n",
      "Pred: [1 1 1 1 1 1 1 1 1 1] || Target: [1 1 0 1 1 1 1 1 0 0]\n",
      "=======================================================================\n",
      "\n",
      "\n",
      "Pred: [1 1 1 1 1 1 1 1 1 1] || Target: [1 1 0 1 1 1 1 1 0 0]\n",
      "=======================================================================\n",
      "\n",
      "\n",
      "Pred: [1 1 1 1 1 1 1 1 1 1] || Target: [1 1 1 0 0 1 1 0 1 1]\n",
      "=======================================================================\n",
      "\n",
      "\n",
      "Pred: [1 1 1 1 1 1 1 1 1 1] || Target: [1 1 0 1 1 1 1 1 0 0]\n",
      "=======================================================================\n",
      "\n",
      "\n",
      "Pred: [1 1 1 1 1 1 1 1 1 1] || Target: [1 1 1 0 0 1 1 0 1 1]\n",
      "=======================================================================\n",
      "\n",
      "\n",
      "Pred: [1 1 1 1 1 1 1 1 1 1] || Target: [1 1 1 0 0 1 1 0 1 1]\n",
      "=======================================================================\n",
      "\n",
      "\n",
      "Pred: [1 1 1 1 1 1 1 1 1 1] || Target: [1 1 0 1 1 1 1 1 0 0]\n",
      "=======================================================================\n",
      "\n",
      "\n",
      "Pred: [1 1 1 0 1 1 1 1 1 1] || Target: [1 1 1 0 0 1 1 0 1 1]\n",
      "=======================================================================\n",
      "\n",
      "\n",
      "Pred: [1 1 1 1 1 1 1 1 0 1] || Target: [1 1 1 0 0 1 1 0 1 1]\n",
      "=======================================================================\n",
      "\n",
      "\n",
      "Pred: [1 1 1 1 1 1 1 1 1 1] || Target: [1 1 1 0 0 1 1 0 1 1]\n",
      "=======================================================================\n",
      "\n",
      "\n",
      "Pred: [1 1 1 1 1 1 1 1 1 1] || Target: [1 1 0 1 1 1 1 1 0 0]\n",
      "=======================================================================\n",
      "\n",
      "\n",
      "Pred: [1 1 1 0 0 1 1 1 1 1] || Target: [1 1 1 0 0 1 1 0 1 1]\n",
      "=======================================================================\n",
      "\n",
      "Accuracy: 71.30%\n"
     ]
    },
    {
     "data": {
      "image/png": "[encoded data removed]",
      "text/plain": [
       "<Figure size 640x480 with 1 Axes>"
      ]
     },
     "metadata": {},
     "output_type": "display_data"
    }
   ],
   "source": [
    "config_file = 1\n",
    "if config_file == 1:\n",
    "    from config_files.config import *\n",
    "else:\n",
    "    from config_files.config2 import *\n",
    "\n",
    "inputs, targets = generate_dataset(dataset_size, sequence_length, num_bits)\n",
    "train_inputs, val_inputs, test_inputs = split_dataset(inputs, 0.15, 0.15)\n",
    "train_targets, val_targets, test_targets = split_dataset(targets, 0.15, 0.15)\n",
    "\n",
    "layers = get_layers(layer_config)\n",
    "\n",
    "nn = NeuralNetwork(\n",
    "    layers=layers,\n",
    "    loss=get_loss_function(loss),\n",
    "    learning_rate=learning_rate,\n",
    ")\n",
    "nn.fit(\n",
    "    inputs=train_inputs,\n",
    "    targets=train_targets,\n",
    "    validation_inputs=val_inputs,\n",
    "    validation_targets=val_targets,\n",
    "    epochs=epochs,\n",
    "    batch_size=batch_size,\n",
    "    verbose=verbose\n",
    ")\n",
    "nn.evaluate_loss(test_inputs, test_targets)\n",
    "nn.evaluate_accuracy(test_inputs,test_targets)"
   ]
  },
  {
   "cell_type": "code",
   "execution_count": 3,
   "metadata": {},
   "outputs": [
    {
     "data": {
      "text/plain": [
       "(23, 5, 10)"
      ]
     },
     "execution_count": 3,
     "metadata": {},
     "output_type": "execute_result"
    }
   ],
   "source": [
    "test_targets.shape"
   ]
  },
  {
   "cell_type": "code",
   "execution_count": 4,
   "metadata": {},
   "outputs": [
    {
     "data": {
      "text/plain": [
       "(23, 5, 10)"
      ]
     },
     "execution_count": 4,
     "metadata": {},
     "output_type": "execute_result"
    }
   ],
   "source": [
    "test_inputs.shape"
   ]
  },
  {
   "cell_type": "code",
   "execution_count": 5,
   "metadata": {},
   "outputs": [
    {
     "name": "stdout",
     "output_type": "stream",
     "text": [
      "(10,)\n",
      "10\n",
      "(10,)\n",
      "20\n",
      "(10,)\n",
      "30\n",
      "(10,)\n",
      "40\n",
      "(10,)\n",
      "50\n",
      "(10,)\n",
      "60\n",
      "(10,)\n",
      "70\n",
      "(10,)\n",
      "80\n",
      "(10,)\n",
      "90\n",
      "(10,)\n",
      "100\n",
      "(10,)\n",
      "110\n",
      "(10,)\n",
      "120\n",
      "(10,)\n",
      "130\n",
      "(10,)\n",
      "140\n",
      "(10,)\n",
      "150\n",
      "(10,)\n",
      "160\n",
      "(10,)\n",
      "170\n",
      "(10,)\n",
      "180\n",
      "(10,)\n",
      "190\n",
      "(10,)\n",
      "200\n",
      "(10,)\n",
      "210\n",
      "(10,)\n",
      "220\n",
      "(10,)\n",
      "230\n"
     ]
    }
   ],
   "source": [
    "t = 0\n",
    "for (x, y) in batch_iterator(1,test_inputs,test_targets):\n",
    "    for i in range(len(x)):\n",
    "        # print(x[i])\n",
    "        # print(x[i].shape)\n",
    "        # print('--------------')\n",
    "        pass\n",
    "    target = np.array(y[i][-1], dtype=int) \n",
    "    print(target.shape)\n",
    "    t += target.shape[0]\n",
    "    print(t)"
   ]
  }
 ],
 "metadata": {
  "kernelspec": {
   "display_name": "Python 3",
   "language": "python",
   "name": "python3"
  },
  "language_info": {
   "codemirror_mode": {
    "name": "ipython",
    "version": 3
   },
   "file_extension": ".py",
   "mimetype": "text/x-python",
   "name": "python",
   "nbconvert_exporter": "python",
   "pygments_lexer": "ipython3",
   "version": "3.11.9"
  }
 },
 "nbformat": 4,
 "nbformat_minor": 2
}
